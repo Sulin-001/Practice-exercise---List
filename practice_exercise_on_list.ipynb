{
 "cells": [
  {
   "cell_type": "code",
   "execution_count": null,
   "metadata": {},
   "outputs": [],
   "source": [
    "# The following will be helpful in you practice exercise\n",
    "\n",
    "\n",
    "string_list = ['A', 'B', 'C', 'D']\n",
    "num_list = [22, 56, 10, 31]\n",
    "\n",
    "paired_list = list(zip(string_list, num_list))\n",
    "print(paired_list) # OUTPUT: [('A', 22), ('B', 56), ('C', 10), ('D', 31)]\n",
    "\n",
    "num_string_list = [(num, str) for str, num in paired_list]\n",
    "print(num_string_list) # OUTPUT: [(22, 'A'), (56, 'B'), (10, 'C'), (31, 'D')]\n",
    "\n",
    "sorted_num_string_list = sorted(num_string_list, reverse = True)\n",
    "print(sorted_num_string_list) # OUTPUT: [(56, 'B'), (31, 'D'), (22, 'A'), (10, 'C')]\n",
    "\n",
    "string_num_list = [(str, num) for num, str in sorted_num_string_list]\n",
    "print(string_num_list) # OUTPUT: [('B', 56), ('D', 31), ('A', 22), ('C', 10)]\n",
    "\n",
    "top_two_list = string_num_list[:2]\n",
    "for str, num in top_two_list:\n",
    "    print(f'{str} - {num}') # OUTPUT: B - 56, D - 31"
   ]
  },
  {
   "cell_type": "markdown",
   "metadata": {},
   "source": [
    "For the practice exercise, you will write a small program that will accept a list of student names and grades, and allow you to view them and perform basic operations on them.\n",
    "\n",
    "REQUIREMENTS:\n",
    "1. Accept a list of 10 names from the user. Each name must be separated by a comma \n",
    "2. Similarly, accept a list of 10 grades (0 - 5). Each grade must be separated by a comma\n",
    "    2.1. Grades must be stored as integers after accepting them as inputs. (HINT: Use typecasting)\n",
    "3. Store in a variable both the names and the grades together. (HINT: Use zip())\n",
    "4. Display to the user the different options that they can choose from to interact with the program\n",
    "    4.1. First option is to view the student with the highest grade.\n",
    "    4.2. Second option is to view top three students with the highest grade (HINT: Use sorted())\n",
    "    4.3. Third option is to view the students with the lowest grade\n",
    "    4.4. Fourth option is to get the total number of students that failed\n",
    "    4.5. Quit the program\n",
    "5. Use only the methods you have learned so far, including list methods and list comprehension. "
   ]
  },
  {
   "cell_type": "code",
   "execution_count": 2,
   "metadata": {},
   "outputs": [
    {
     "name": "stdout",
     "output_type": "stream",
     "text": [
      "Top three: [('gg', 5), ('ff', 4), ('hh', 4)]\n"
     ]
    }
   ],
   "source": [
    "def get_valid_names():\n",
    "    while True:\n",
    "        name_input = input(\"Please enter 10 student names, separated by commas: \")\n",
    "        Name_list = [name.strip() for name in name_input.split(\",\")]\n",
    "\n",
    "        \n",
    "        if len(Name_list) == 10 and all(name.isalpha() for name in Name_list):\n",
    "            return Name_list\n",
    "        else:\n",
    "            print(\"Invalid input. Make sure to enter exactly 10 names, and each name should only contain letters.\")\n",
    "\n",
    "def get_valid_grades():\n",
    "    while True:\n",
    "        grade_input = input(\"Please enter 10 grades (0-5), separated by commas: \")\n",
    "        grade_strings = [grade.strip() for grade in grade_input.split(\",\")]\n",
    "\n",
    "        try:\n",
    "            \n",
    "            Num_list = [int(grade) for grade in grade_strings if grade.isdigit()]\n",
    "            if len(Num_list) == 10 and all(0 <= grade <= 5 for grade in Num_list):\n",
    "                return Num_list\n",
    "            else:\n",
    "                raise ValueError\n",
    "        except ValueError:\n",
    "            print(\"Invalid input. Make sure to enter exactly 10 numbers, each between 0 and 5.\")\n",
    "\n",
    "Name_list = get_valid_names()\n",
    "Num_list = get_valid_grades()\n",
    "\n",
    "paired_list = list(zip(Name_list, Num_list))\n",
    "\n",
    "\n",
    "choice = int(input(\"What do you want?\\n1. Highest\\n2. Top three\\n3. Lowest\\n4. All\\n5. Exit\\n\"))\n",
    "#user choice\n",
    "\n",
    "\n",
    "if choice == 1:\n",
    "    \n",
    "        highest = max(paired_list, key=lambda x: x[1])\n",
    "        print(\"Highest:\", highest)\n",
    "\n",
    "elif choice == 2:\n",
    "      \n",
    "        top_three = sorted(paired_list, key=lambda x: x[1], reverse=True)[:3]\n",
    "        print(\"Top three:\", top_three)\n",
    "elif choice == 3:\n",
    "       \n",
    "        lowest = min(paired_list, key=lambda x: x[1])\n",
    "        print(\"Lowest:\", lowest)\n",
    "\n",
    "elif choice == 4:\n",
    "        failed_students = [student for student in paired_list if student[1] < 3]\n",
    "        print(\"Total number of students that failed:\", len(failed_students))\n",
    "\n",
    "elif choice == 5:\n",
    "        print(\"Exiting...\")\n",
    "        breakpoint\n",
    "\n",
    "else:\n",
    "        print(\"Invalid choice. Please select a valid option.\")\n",
    "\n"
   ]
  }
 ],
 "metadata": {
  "kernelspec": {
   "display_name": "Python 3",
   "language": "python",
   "name": "python3"
  },
  "language_info": {
   "codemirror_mode": {
    "name": "ipython",
    "version": 3
   },
   "file_extension": ".py",
   "mimetype": "text/x-python",
   "name": "python",
   "nbconvert_exporter": "python",
   "pygments_lexer": "ipython3",
   "version": "3.8.5"
  }
 },
 "nbformat": 4,
 "nbformat_minor": 2
}
